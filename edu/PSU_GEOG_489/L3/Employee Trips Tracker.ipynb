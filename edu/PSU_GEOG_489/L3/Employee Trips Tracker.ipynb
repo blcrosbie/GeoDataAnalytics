{
 "cells": [
  {
   "cell_type": "markdown",
   "metadata": {},
   "source": [
    "# 1. Setup     "
   ]
  },
  {
   "cell_type": "code",
   "execution_count": 1,
   "metadata": {},
   "outputs": [],
   "source": [
    "import os, sys\n",
    "import re\n",
    "import datetime\n",
    "import pandas as pd\n",
    "\n",
    "import geopandas as gpd\n",
    "\n",
    "from osgeo import gdal\n",
    "from osgeo import ogr\n",
    "from osgeo import osr\n",
    "\n",
    "import zipfile"
   ]
  },
  {
   "cell_type": "markdown",
   "metadata": {},
   "source": [
    "Set environment variables and globals to help parse directory to find input data"
   ]
  },
  {
   "cell_type": "code",
   "execution_count": 2,
   "metadata": {},
   "outputs": [],
   "source": [
    "# For Windows OS\n",
    "os.environ[\"HOME\"] = os.path.expanduser(\"~\")\n",
    "CURRENT_DIR = os.getcwd()\n",
    "\n",
    "# add Environment Variable PATH to bin executables\n",
    "bin_path = os.environ[\"HOME\"] + '\\\\AppData\\\\Local\\\\Programs\\\\ArcGIS\\\\Pro\\\\bin'\n",
    "os.environ[\"PATH\"] = r\"{};{}\".format(os.environ[\"PATH\"], bin_path)\n",
    "\n",
    "# add path to arcpy lib from ArcGIS Pro\n",
    "arcpy_path = os.environ[\"HOME\"] + '\\\\AppData\\\\Local\\\\Programs\\\\ArcGIS\\\\Pro\\\\Resources\\\\ArcPy'\n",
    "sys.path.append(arcpy_path)\n"
   ]
  },
  {
   "cell_type": "markdown",
   "metadata": {},
   "source": [
    "Instantiate ArcGIS PRO"
   ]
  },
  {
   "cell_type": "code",
   "execution_count": 3,
   "metadata": {},
   "outputs": [],
   "source": [
    "import arcgis\n",
    "from arcgis.gis import GIS\n",
    "gis = GIS('pro')"
   ]
  },
  {
   "cell_type": "markdown",
   "metadata": {},
   "source": [
    "<b> Input: </b>\n",
    "<li>1a. list of employee names to include in the output</li>\n",
    "<li>1b. start date and end dates as datetime.datetime objects</li>\n",
    "<li>1c. the folder that contains the input files</li>\n",
    "<li>1d. the name of the output shapefile (include your initials or ID in the name to make the name unique for uploading it to AGOL)</li>\n",
    "<li>1e. the name of the output csv file </li>"
   ]
  },
  {
   "cell_type": "markdown",
   "metadata": {},
   "source": [
    "<b>1a. List of Employee Names</b>"
   ]
  },
  {
   "cell_type": "code",
   "execution_count": 4,
   "metadata": {},
   "outputs": [],
   "source": [
    "employeeList = ['Jones, Frank','Brown, Justine', 'Samulson, Roger']"
   ]
  },
  {
   "cell_type": "markdown",
   "metadata": {},
   "source": [
    "<b>1b. Start and End dates as datetime obj</b>"
   ]
  },
  {
   "cell_type": "code",
   "execution_count": 5,
   "metadata": {},
   "outputs": [],
   "source": [
    "startDate = datetime.datetime(2016, 6, 26)\n",
    "endDate = datetime.datetime(2017, 5, 11)"
   ]
  },
  {
   "cell_type": "markdown",
   "metadata": {},
   "source": [
    "<b>1c. Specify Input Filepath: zip file with travel + employee Data</b>"
   ]
  },
  {
   "cell_type": "code",
   "execution_count": 6,
   "metadata": {},
   "outputs": [],
   "source": [
    "IN_filepath = os.path.join(CURRENT_DIR, \"input_data\")"
   ]
  },
  {
   "cell_type": "code",
   "execution_count": 7,
   "metadata": {},
   "outputs": [],
   "source": [
    "OUT_filepath = os.path.join(CURRENT_DIR, \"results\")"
   ]
  },
  {
   "cell_type": "markdown",
   "metadata": {},
   "source": [
    "Create Generic Output filename to append .zip, .shp, and .csv"
   ]
  },
  {
   "cell_type": "code",
   "execution_count": 8,
   "metadata": {},
   "outputs": [],
   "source": [
    "output_fn = os.path.join(OUT_filepath, (\"employee_trips_\" + gis.users.me.username.split('_')[0]))\n",
    "output_zip = output_fn + '.zip'"
   ]
  },
  {
   "cell_type": "markdown",
   "metadata": {},
   "source": [
    "<b>1d. Name of Output Shape file</b>"
   ]
  },
  {
   "cell_type": "code",
   "execution_count": 9,
   "metadata": {},
   "outputs": [],
   "source": [
    "output_shape_fn = output_fn + '.shp'"
   ]
  },
  {
   "cell_type": "markdown",
   "metadata": {},
   "source": [
    "<b>1e. Name of Output CSV file</b>"
   ]
  },
  {
   "cell_type": "code",
   "execution_count": 10,
   "metadata": {},
   "outputs": [],
   "source": [
    "output_csv = output_fn + '.csv'"
   ]
  },
  {
   "cell_type": "markdown",
   "metadata": {},
   "source": [
    "View Inputs:"
   ]
  },
  {
   "cell_type": "code",
   "execution_count": 11,
   "metadata": {},
   "outputs": [
    {
     "name": "stdout",
     "output_type": "stream",
     "text": [
      "List of Employees:\t ['Jones, Frank', 'Brown, Justine', 'Samulson, Roger']\n",
      "Start Date:\t\t 2016-06-26 00:00:00\n",
      "End Date:\t\t 2017-05-11 00:00:00 \n",
      "\n",
      "Input Directory:\n",
      " C:\\Users\\blcrosbie\\dev\\GIS\\PSU_GEOG_489\\L3\\input_data \n",
      "\n",
      "Output Shapefile:\t employee_trips_blc72.shp\n",
      "Output CSV:\t\t employee_trips_blc72.csv \n",
      "\n"
     ]
    }
   ],
   "source": [
    "print(\"List of Employees:\\t\",employeeList)\n",
    "print(\"Start Date:\\t\\t\", startDate)\n",
    "print(\"End Date:\\t\\t\", endDate, \"\\n\")\n",
    "print(\"Input Directory:\\n\", IN_filepath,\"\\n\")\n",
    "print(\"Output Shapefile:\\t\", os.path.basename(output_shape_fn))\n",
    "print(\"Output CSV:\\t\\t\", os.path.basename(output_csv), \"\\n\")"
   ]
  },
  {
   "cell_type": "markdown",
   "metadata": {},
   "source": [
    "# 2. Load Employee Data"
   ]
  },
  {
   "cell_type": "code",
   "execution_count": 12,
   "metadata": {},
   "outputs": [],
   "source": [
    "emp_fn = os.path.join(IN_filepath, \"employees.csv\" )\n",
    "employees = pd.read_csv(emp_fn, header=None)"
   ]
  },
  {
   "cell_type": "markdown",
   "metadata": {},
   "source": [
    "Check that the employee data has been loaded into the dataframe\n",
    "<li>(edit: header=None, since there is no column names set)\n",
    "<li> then set the column names "
   ]
  },
  {
   "cell_type": "code",
   "execution_count": 13,
   "metadata": {},
   "outputs": [],
   "source": [
    "employees.columns = ['Name', 'ID']"
   ]
  },
  {
   "cell_type": "code",
   "execution_count": 14,
   "metadata": {},
   "outputs": [
    {
     "data": {
      "text/plain": [
       "Name    object\n",
       "ID       int32\n",
       "dtype: object"
      ]
     },
     "execution_count": 14,
     "metadata": {},
     "output_type": "execute_result"
    }
   ],
   "source": [
    "employees = employees.astype({'Name': 'str', 'ID': 'int32'})\n",
    "employees.dtypes"
   ]
  },
  {
   "cell_type": "code",
   "execution_count": 15,
   "metadata": {},
   "outputs": [
    {
     "data": {
      "text/html": [
       "<div>\n",
       "<style scoped>\n",
       "    .dataframe tbody tr th:only-of-type {\n",
       "        vertical-align: middle;\n",
       "    }\n",
       "\n",
       "    .dataframe tbody tr th {\n",
       "        vertical-align: top;\n",
       "    }\n",
       "\n",
       "    .dataframe thead th {\n",
       "        text-align: right;\n",
       "    }\n",
       "</style>\n",
       "<table border=\"1\" class=\"dataframe\">\n",
       "  <thead>\n",
       "    <tr style=\"text-align: right;\">\n",
       "      <th></th>\n",
       "      <th>Name</th>\n",
       "      <th>ID</th>\n",
       "    </tr>\n",
       "  </thead>\n",
       "  <tbody>\n",
       "    <tr>\n",
       "      <th>0</th>\n",
       "      <td>Smith, Richard</td>\n",
       "      <td>1234421</td>\n",
       "    </tr>\n",
       "    <tr>\n",
       "      <th>1</th>\n",
       "      <td>Moore, Lisa</td>\n",
       "      <td>1231233</td>\n",
       "    </tr>\n",
       "    <tr>\n",
       "      <th>2</th>\n",
       "      <td>Jones, Frank</td>\n",
       "      <td>2132222</td>\n",
       "    </tr>\n",
       "    <tr>\n",
       "      <th>3</th>\n",
       "      <td>Brown, Justine</td>\n",
       "      <td>2132225</td>\n",
       "    </tr>\n",
       "    <tr>\n",
       "      <th>4</th>\n",
       "      <td>Samulson, Roger</td>\n",
       "      <td>3981232</td>\n",
       "    </tr>\n",
       "  </tbody>\n",
       "</table>\n",
       "</div>"
      ],
      "text/plain": [
       "              Name       ID\n",
       "0   Smith, Richard  1234421\n",
       "1      Moore, Lisa  1231233\n",
       "2     Jones, Frank  2132222\n",
       "3   Brown, Justine  2132225\n",
       "4  Samulson, Roger  3981232"
      ]
     },
     "execution_count": 15,
     "metadata": {},
     "output_type": "execute_result"
    }
   ],
   "source": [
    "employees.head()"
   ]
  },
  {
   "cell_type": "markdown",
   "metadata": {},
   "source": [
    "# 3. Aggregate Travel Data"
   ]
  },
  {
   "cell_type": "code",
   "execution_count": 16,
   "metadata": {},
   "outputs": [],
   "source": [
    "travel_pattern = \"travel_\\d\\d\\d\\d.csv$\"\n",
    "travel_file_list = []\n",
    "\n",
    "for root, dirs, files in os.walk(IN_filepath):\n",
    "    travel_file_list = [fn for fn in files if re.match(travel_pattern, fn)]"
   ]
  },
  {
   "cell_type": "markdown",
   "metadata": {},
   "source": [
    "Check first 3 and last 3 and length"
   ]
  },
  {
   "cell_type": "code",
   "execution_count": 17,
   "metadata": {},
   "outputs": [
    {
     "name": "stdout",
     "output_type": "stream",
     "text": [
      "['travel_1001.csv', 'travel_1002.csv', 'travel_1003.csv']\n",
      "['travel_1073.csv', 'travel_1074.csv', 'travel_1075.csv']\n",
      "75\n"
     ]
    }
   ],
   "source": [
    "print(travel_file_list[:3])\n",
    "print(travel_file_list[-3:])\n",
    "print(len(travel_file_list))"
   ]
  },
  {
   "cell_type": "markdown",
   "metadata": {},
   "source": [
    "Parse List and concatenate into single DataFrame"
   ]
  },
  {
   "cell_type": "code",
   "execution_count": 18,
   "metadata": {},
   "outputs": [],
   "source": [
    "travel = pd.DataFrame(columns=['ID','Start', 'End', 'Route'], dtype=object)"
   ]
  },
  {
   "cell_type": "code",
   "execution_count": 19,
   "metadata": {},
   "outputs": [],
   "source": [
    "for fn in travel_file_list:\n",
    "    trip_file = os.path.join(IN_filepath, fn)\n",
    "    trip = pd.read_csv(trip_file, header=None, dtype=object)\n",
    "    trip.columns = ['ID', 'Start', 'End', 'Route']\n",
    "    travel = pd.concat([travel, trip], axis=0)\n"
   ]
  },
  {
   "cell_type": "markdown",
   "metadata": {},
   "source": [
    "Check to make sure Travel dataframe is valid"
   ]
  },
  {
   "cell_type": "code",
   "execution_count": 20,
   "metadata": {},
   "outputs": [
    {
     "data": {
      "text/html": [
       "<div>\n",
       "<style scoped>\n",
       "    .dataframe tbody tr th:only-of-type {\n",
       "        vertical-align: middle;\n",
       "    }\n",
       "\n",
       "    .dataframe tbody tr th {\n",
       "        vertical-align: top;\n",
       "    }\n",
       "\n",
       "    .dataframe thead th {\n",
       "        text-align: right;\n",
       "    }\n",
       "</style>\n",
       "<table border=\"1\" class=\"dataframe\">\n",
       "  <thead>\n",
       "    <tr style=\"text-align: right;\">\n",
       "      <th></th>\n",
       "      <th>ID</th>\n",
       "      <th>Start</th>\n",
       "      <th>End</th>\n",
       "      <th>Route</th>\n",
       "    </tr>\n",
       "  </thead>\n",
       "  <tbody>\n",
       "    <tr>\n",
       "      <th>0</th>\n",
       "      <td>2132222</td>\n",
       "      <td>2016-01-07 16:00:00</td>\n",
       "      <td>2016-01-26 12:00:00</td>\n",
       "      <td>Cleveland;Bangor;Erie;Philadelphia;New York;Al...</td>\n",
       "    </tr>\n",
       "    <tr>\n",
       "      <th>0</th>\n",
       "      <td>1234421</td>\n",
       "      <td>2016-01-15 13:00:00</td>\n",
       "      <td>2016-01-31 17:00:00</td>\n",
       "      <td>Philadelphia;Portland;Harrisburg;Burlington;Er...</td>\n",
       "    </tr>\n",
       "    <tr>\n",
       "      <th>0</th>\n",
       "      <td>2132225</td>\n",
       "      <td>2016-01-29 12:00:00</td>\n",
       "      <td>2016-02-03 15:00:00</td>\n",
       "      <td>Bangor;Cleveland;Augusta</td>\n",
       "    </tr>\n",
       "    <tr>\n",
       "      <th>0</th>\n",
       "      <td>2132225</td>\n",
       "      <td>2016-02-10 07:00:00</td>\n",
       "      <td>2016-02-22 22:00:00</td>\n",
       "      <td>Altoona;Augusta;Altoona;Bangor;Augusta;Columbus</td>\n",
       "    </tr>\n",
       "    <tr>\n",
       "      <th>0</th>\n",
       "      <td>2132222</td>\n",
       "      <td>2016-02-19 14:00:00</td>\n",
       "      <td>2016-02-25 13:00:00</td>\n",
       "      <td>Boston;Philadelphia</td>\n",
       "    </tr>\n",
       "  </tbody>\n",
       "</table>\n",
       "</div>"
      ],
      "text/plain": [
       "        ID                Start                  End  \\\n",
       "0  2132222  2016-01-07 16:00:00  2016-01-26 12:00:00   \n",
       "0  1234421  2016-01-15 13:00:00  2016-01-31 17:00:00   \n",
       "0  2132225  2016-01-29 12:00:00  2016-02-03 15:00:00   \n",
       "0  2132225  2016-02-10 07:00:00  2016-02-22 22:00:00   \n",
       "0  2132222  2016-02-19 14:00:00  2016-02-25 13:00:00   \n",
       "\n",
       "                                               Route  \n",
       "0  Cleveland;Bangor;Erie;Philadelphia;New York;Al...  \n",
       "0  Philadelphia;Portland;Harrisburg;Burlington;Er...  \n",
       "0                           Bangor;Cleveland;Augusta  \n",
       "0    Altoona;Augusta;Altoona;Bangor;Augusta;Columbus  \n",
       "0                                Boston;Philadelphia  "
      ]
     },
     "execution_count": 20,
     "metadata": {},
     "output_type": "execute_result"
    }
   ],
   "source": [
    "travel = travel.astype({'ID': 'int32'})\n",
    "travel.head()"
   ]
  },
  {
   "cell_type": "markdown",
   "metadata": {},
   "source": [
    "# 4. Merge Employee and Travel Data"
   ]
  },
  {
   "cell_type": "code",
   "execution_count": 21,
   "metadata": {},
   "outputs": [],
   "source": [
    "employee_travel = employees.merge(travel, on='ID')"
   ]
  },
  {
   "cell_type": "code",
   "execution_count": 22,
   "metadata": {},
   "outputs": [
    {
     "data": {
      "text/html": [
       "<div>\n",
       "<style scoped>\n",
       "    .dataframe tbody tr th:only-of-type {\n",
       "        vertical-align: middle;\n",
       "    }\n",
       "\n",
       "    .dataframe tbody tr th {\n",
       "        vertical-align: top;\n",
       "    }\n",
       "\n",
       "    .dataframe thead th {\n",
       "        text-align: right;\n",
       "    }\n",
       "</style>\n",
       "<table border=\"1\" class=\"dataframe\">\n",
       "  <thead>\n",
       "    <tr style=\"text-align: right;\">\n",
       "      <th></th>\n",
       "      <th>Name</th>\n",
       "      <th>ID</th>\n",
       "      <th>Start</th>\n",
       "      <th>End</th>\n",
       "      <th>Route</th>\n",
       "    </tr>\n",
       "  </thead>\n",
       "  <tbody>\n",
       "    <tr>\n",
       "      <th>0</th>\n",
       "      <td>Smith, Richard</td>\n",
       "      <td>1234421</td>\n",
       "      <td>2016-01-15 13:00:00</td>\n",
       "      <td>2016-01-31 17:00:00</td>\n",
       "      <td>Philadelphia;Portland;Harrisburg;Burlington;Er...</td>\n",
       "    </tr>\n",
       "    <tr>\n",
       "      <th>1</th>\n",
       "      <td>Smith, Richard</td>\n",
       "      <td>1234421</td>\n",
       "      <td>2016-04-09 06:00:00</td>\n",
       "      <td>2016-04-16 22:00:00</td>\n",
       "      <td>Augusta;New York;Columbus;Syracuse;Albany</td>\n",
       "    </tr>\n",
       "    <tr>\n",
       "      <th>2</th>\n",
       "      <td>Smith, Richard</td>\n",
       "      <td>1234421</td>\n",
       "      <td>2016-04-22 15:00:00</td>\n",
       "      <td>2016-05-02 20:00:00</td>\n",
       "      <td>Columbus;Burlington;Augusta;Syracuse;Augusta;P...</td>\n",
       "    </tr>\n",
       "    <tr>\n",
       "      <th>3</th>\n",
       "      <td>Smith, Richard</td>\n",
       "      <td>1234421</td>\n",
       "      <td>2016-05-09 06:00:00</td>\n",
       "      <td>2016-05-18 22:00:00</td>\n",
       "      <td>Boston;Albany;Harrisburg;Erie</td>\n",
       "    </tr>\n",
       "    <tr>\n",
       "      <th>4</th>\n",
       "      <td>Smith, Richard</td>\n",
       "      <td>1234421</td>\n",
       "      <td>2016-05-19 08:00:00</td>\n",
       "      <td>2016-05-25 16:00:00</td>\n",
       "      <td>Portland;Washington</td>\n",
       "    </tr>\n",
       "  </tbody>\n",
       "</table>\n",
       "</div>"
      ],
      "text/plain": [
       "             Name       ID                Start                  End  \\\n",
       "0  Smith, Richard  1234421  2016-01-15 13:00:00  2016-01-31 17:00:00   \n",
       "1  Smith, Richard  1234421  2016-04-09 06:00:00  2016-04-16 22:00:00   \n",
       "2  Smith, Richard  1234421  2016-04-22 15:00:00  2016-05-02 20:00:00   \n",
       "3  Smith, Richard  1234421  2016-05-09 06:00:00  2016-05-18 22:00:00   \n",
       "4  Smith, Richard  1234421  2016-05-19 08:00:00  2016-05-25 16:00:00   \n",
       "\n",
       "                                               Route  \n",
       "0  Philadelphia;Portland;Harrisburg;Burlington;Er...  \n",
       "1          Augusta;New York;Columbus;Syracuse;Albany  \n",
       "2  Columbus;Burlington;Augusta;Syracuse;Augusta;P...  \n",
       "3                      Boston;Albany;Harrisburg;Erie  \n",
       "4                                Portland;Washington  "
      ]
     },
     "execution_count": 22,
     "metadata": {},
     "output_type": "execute_result"
    }
   ],
   "source": [
    "employee_travel.head()"
   ]
  },
  {
   "cell_type": "markdown",
   "metadata": {},
   "source": [
    "<b>Check Column Datatypes, make sure datetime formatted correctly </b>"
   ]
  },
  {
   "cell_type": "code",
   "execution_count": 23,
   "metadata": {},
   "outputs": [
    {
     "data": {
      "text/plain": [
       "Name     object\n",
       "ID        int32\n",
       "Start    object\n",
       "End      object\n",
       "Route    object\n",
       "dtype: object"
      ]
     },
     "execution_count": 23,
     "metadata": {},
     "output_type": "execute_result"
    }
   ],
   "source": [
    "employee_travel.dtypes"
   ]
  },
  {
   "cell_type": "code",
   "execution_count": 24,
   "metadata": {},
   "outputs": [],
   "source": [
    "employee_travel = employee_travel.astype({'Name': str, 'Route': str})"
   ]
  },
  {
   "cell_type": "code",
   "execution_count": 25,
   "metadata": {},
   "outputs": [],
   "source": [
    "employee_travel['Start'] = pd.to_datetime(employee_travel['Start'], format=\"%Y-%m-%d %H:%M:%S\")\n",
    "employee_travel['End'] = pd.to_datetime(employee_travel['End'], format=\"%Y-%m-%d %H:%M:%S\")"
   ]
  },
  {
   "cell_type": "code",
   "execution_count": 26,
   "metadata": {},
   "outputs": [
    {
     "data": {
      "text/plain": [
       "Name             object\n",
       "ID                int32\n",
       "Start    datetime64[ns]\n",
       "End      datetime64[ns]\n",
       "Route            object\n",
       "dtype: object"
      ]
     },
     "execution_count": 26,
     "metadata": {},
     "output_type": "execute_result"
    }
   ],
   "source": [
    "employee_travel.dtypes"
   ]
  },
  {
   "cell_type": "markdown",
   "metadata": {},
   "source": [
    "<b>Last pandas.dtypes Validation should show:</b>\n",
    "<li> Name: string or object </li>\n",
    "<li> ID: int32 </li>\n",
    "<li> Start: datetime64[ns] </li>\n",
    "<li> End: datetime64[ns] </li>\n",
    "<li> Route: string or object </li>"
   ]
  },
  {
   "cell_type": "markdown",
   "metadata": {},
   "source": [
    "<b> 4a. Filter using input Employee List, and start-end dates </b>"
   ]
  },
  {
   "cell_type": "code",
   "execution_count": 27,
   "metadata": {},
   "outputs": [],
   "source": [
    "# copy original dataframe \n",
    "my_trips_df = employee_travel.copy()\n",
    "\n",
    "# filter Name(s) from list\n",
    "my_trips_df = my_trips_df[my_trips_df['Name'].isin(employeeList)]\n",
    "\n",
    "# filter by date\n",
    "my_trips_df = my_trips_df[my_trips_df['Start'] >= startDate]# & \n",
    "my_trips_df = my_trips_df[my_trips_df['End'] <= endDate]"
   ]
  },
  {
   "cell_type": "markdown",
   "metadata": {},
   "source": [
    "<b> 4b. Calculate Trip Duration </b>"
   ]
  },
  {
   "cell_type": "code",
   "execution_count": 28,
   "metadata": {},
   "outputs": [],
   "source": [
    "# Calculate duration\n",
    "my_trips_df['Duration'] = my_trips_df[['Start', 'End']].apply(lambda x: (x[1]-x[0]).days, axis=1)"
   ]
  },
  {
   "cell_type": "markdown",
   "metadata": {},
   "source": [
    "<b> 4c. Reorder Columns and Reset Index</b>\n",
    "<li>Columns [Name, ID, Duration, Start, End, Route]</li>\n",
    "<li>Reset the index (row labels being integer 0, 1, 2...</li>"
   ]
  },
  {
   "cell_type": "code",
   "execution_count": 29,
   "metadata": {},
   "outputs": [],
   "source": [
    "# column reorder\n",
    "reorder_cols = ['Name', 'ID', 'Duration', 'Start', 'End', 'Route']\n",
    "my_trips_df = my_trips_df[reorder_cols]"
   ]
  },
  {
   "cell_type": "markdown",
   "metadata": {},
   "source": [
    "<b>4d. Sort DataFrame</b>\n",
    "<li>Name (alphabetical)</li>\n",
    "<li>Duration from shortest to longest (ascending=True)</li>\n",
    "<li>Start from earliest to most recent (ascending=True)</li>\n",
    "<li>End from earliest to most recent (ascending=True)</li>"
   ]
  },
  {
   "cell_type": "code",
   "execution_count": 30,
   "metadata": {},
   "outputs": [],
   "source": [
    "my_trips_df = my_trips_df.sort_values(by=['Name', 'Duration', 'Start', 'End'], ascending=True)"
   ]
  },
  {
   "cell_type": "markdown",
   "metadata": {},
   "source": [
    "Reset Index and View Results"
   ]
  },
  {
   "cell_type": "code",
   "execution_count": 31,
   "metadata": {},
   "outputs": [
    {
     "data": {
      "text/html": [
       "<div>\n",
       "<style scoped>\n",
       "    .dataframe tbody tr th:only-of-type {\n",
       "        vertical-align: middle;\n",
       "    }\n",
       "\n",
       "    .dataframe tbody tr th {\n",
       "        vertical-align: top;\n",
       "    }\n",
       "\n",
       "    .dataframe thead th {\n",
       "        text-align: right;\n",
       "    }\n",
       "</style>\n",
       "<table border=\"1\" class=\"dataframe\">\n",
       "  <thead>\n",
       "    <tr style=\"text-align: right;\">\n",
       "      <th></th>\n",
       "      <th>Name</th>\n",
       "      <th>ID</th>\n",
       "      <th>Duration</th>\n",
       "      <th>Start</th>\n",
       "      <th>End</th>\n",
       "      <th>Route</th>\n",
       "    </tr>\n",
       "  </thead>\n",
       "  <tbody>\n",
       "    <tr>\n",
       "      <th>0</th>\n",
       "      <td>Brown, Justine</td>\n",
       "      <td>2132225</td>\n",
       "      <td>5</td>\n",
       "      <td>2016-11-30 16:00:00</td>\n",
       "      <td>2016-12-06 14:00:00</td>\n",
       "      <td>Pittsburgh;Syracuse</td>\n",
       "    </tr>\n",
       "    <tr>\n",
       "      <th>1</th>\n",
       "      <td>Brown, Justine</td>\n",
       "      <td>2132225</td>\n",
       "      <td>9</td>\n",
       "      <td>2016-12-12 12:00:00</td>\n",
       "      <td>2016-12-21 19:00:00</td>\n",
       "      <td>Columbus;Boston;Pittsburgh</td>\n",
       "    </tr>\n",
       "    <tr>\n",
       "      <th>2</th>\n",
       "      <td>Brown, Justine</td>\n",
       "      <td>2132225</td>\n",
       "      <td>12</td>\n",
       "      <td>2016-08-02 13:00:00</td>\n",
       "      <td>2016-08-14 16:00:00</td>\n",
       "      <td>Albany;Scranton;Philadelphia;Scranton;Augusta</td>\n",
       "    </tr>\n",
       "    <tr>\n",
       "      <th>3</th>\n",
       "      <td>Brown, Justine</td>\n",
       "      <td>2132225</td>\n",
       "      <td>12</td>\n",
       "      <td>2017-01-07 11:00:00</td>\n",
       "      <td>2017-01-19 17:00:00</td>\n",
       "      <td>Harrisburg;Portland;Boston;Syracuse;Albany</td>\n",
       "    </tr>\n",
       "    <tr>\n",
       "      <th>4</th>\n",
       "      <td>Brown, Justine</td>\n",
       "      <td>2132225</td>\n",
       "      <td>17</td>\n",
       "      <td>2017-03-27 06:00:00</td>\n",
       "      <td>2017-04-13 14:00:00</td>\n",
       "      <td>Portland;Boston;Bangor;Washington;Harrisburg;P...</td>\n",
       "    </tr>\n",
       "  </tbody>\n",
       "</table>\n",
       "</div>"
      ],
      "text/plain": [
       "             Name       ID  Duration               Start                 End  \\\n",
       "0  Brown, Justine  2132225         5 2016-11-30 16:00:00 2016-12-06 14:00:00   \n",
       "1  Brown, Justine  2132225         9 2016-12-12 12:00:00 2016-12-21 19:00:00   \n",
       "2  Brown, Justine  2132225        12 2016-08-02 13:00:00 2016-08-14 16:00:00   \n",
       "3  Brown, Justine  2132225        12 2017-01-07 11:00:00 2017-01-19 17:00:00   \n",
       "4  Brown, Justine  2132225        17 2017-03-27 06:00:00 2017-04-13 14:00:00   \n",
       "\n",
       "                                               Route  \n",
       "0                                Pittsburgh;Syracuse  \n",
       "1                         Columbus;Boston;Pittsburgh  \n",
       "2      Albany;Scranton;Philadelphia;Scranton;Augusta  \n",
       "3         Harrisburg;Portland;Boston;Syracuse;Albany  \n",
       "4  Portland;Boston;Bangor;Washington;Harrisburg;P...  "
      ]
     },
     "execution_count": 31,
     "metadata": {},
     "output_type": "execute_result"
    }
   ],
   "source": [
    "# Reset the index like example (start from 0)\n",
    "my_trips_df = my_trips_df.reset_index(drop=True)\n",
    "my_trips_df.head()"
   ]
  },
  {
   "cell_type": "markdown",
   "metadata": {},
   "source": [
    "# 5. Save to CSV:\n",
    "to file Output_CSV"
   ]
  },
  {
   "cell_type": "code",
   "execution_count": 32,
   "metadata": {},
   "outputs": [],
   "source": [
    "my_trips_df.to_csv(output_csv)"
   ]
  },
  {
   "cell_type": "markdown",
   "metadata": {},
   "source": [
    "# 6. Create WGS84 coordinates with GeoPandas"
   ]
  },
  {
   "cell_type": "markdown",
   "metadata": {},
   "source": [
    "Import the neCities Shapefile into a GeoPandas DataFrame"
   ]
  },
  {
   "cell_type": "code",
   "execution_count": 33,
   "metadata": {},
   "outputs": [],
   "source": [
    "my_neCities_file = \"ne_cities_\" + gis.users.me.username.split('_')[0]\n",
    "my_neCities_shp = os.path.join(IN_filepath, \"ne_cities.shp\")"
   ]
  },
  {
   "cell_type": "code",
   "execution_count": 34,
   "metadata": {},
   "outputs": [],
   "source": [
    "ne_Cities_df = gpd.read_file(my_neCities_shp)"
   ]
  },
  {
   "cell_type": "code",
   "execution_count": 35,
   "metadata": {},
   "outputs": [
    {
     "data": {
      "text/html": [
       "<div>\n",
       "<style scoped>\n",
       "    .dataframe tbody tr th:only-of-type {\n",
       "        vertical-align: middle;\n",
       "    }\n",
       "\n",
       "    .dataframe tbody tr th {\n",
       "        vertical-align: top;\n",
       "    }\n",
       "\n",
       "    .dataframe thead th {\n",
       "        text-align: right;\n",
       "    }\n",
       "</style>\n",
       "<table border=\"1\" class=\"dataframe\">\n",
       "  <thead>\n",
       "    <tr style=\"text-align: right;\">\n",
       "      <th></th>\n",
       "      <th>OBJECTID</th>\n",
       "      <th>UIDENT</th>\n",
       "      <th>POPCLASS</th>\n",
       "      <th>NAME</th>\n",
       "      <th>CAPITAL</th>\n",
       "      <th>STATEABB</th>\n",
       "      <th>COUNTRY</th>\n",
       "      <th>geometry</th>\n",
       "    </tr>\n",
       "  </thead>\n",
       "  <tbody>\n",
       "    <tr>\n",
       "      <th>0</th>\n",
       "      <td>15</td>\n",
       "      <td>62507.0</td>\n",
       "      <td>2.0</td>\n",
       "      <td>Bangor</td>\n",
       "      <td>-1.0</td>\n",
       "      <td>US-ME</td>\n",
       "      <td>USA</td>\n",
       "      <td>POINT (-68.77619 44.81189)</td>\n",
       "    </tr>\n",
       "    <tr>\n",
       "      <th>1</th>\n",
       "      <td>20</td>\n",
       "      <td>64707.0</td>\n",
       "      <td>2.0</td>\n",
       "      <td>Waterville</td>\n",
       "      <td>-1.0</td>\n",
       "      <td>US-ME</td>\n",
       "      <td>USA</td>\n",
       "      <td>POINT (-69.62073 44.53724)</td>\n",
       "    </tr>\n",
       "    <tr>\n",
       "      <th>2</th>\n",
       "      <td>23</td>\n",
       "      <td>65607.0</td>\n",
       "      <td>2.0</td>\n",
       "      <td>Augusta</td>\n",
       "      <td>1.0</td>\n",
       "      <td>US-ME</td>\n",
       "      <td>USA</td>\n",
       "      <td>POINT (-69.78141 44.32166)</td>\n",
       "    </tr>\n",
       "    <tr>\n",
       "      <th>3</th>\n",
       "      <td>26</td>\n",
       "      <td>66707.0</td>\n",
       "      <td>2.0</td>\n",
       "      <td>Berlin</td>\n",
       "      <td>-1.0</td>\n",
       "      <td>US-NH</td>\n",
       "      <td>USA</td>\n",
       "      <td>POINT (-71.19324 44.46470)</td>\n",
       "    </tr>\n",
       "    <tr>\n",
       "      <th>4</th>\n",
       "      <td>29</td>\n",
       "      <td>67407.0</td>\n",
       "      <td>2.0</td>\n",
       "      <td>Lewiston</td>\n",
       "      <td>-1.0</td>\n",
       "      <td>US-ME</td>\n",
       "      <td>USA</td>\n",
       "      <td>POINT (-70.19406 44.10972)</td>\n",
       "    </tr>\n",
       "  </tbody>\n",
       "</table>\n",
       "</div>"
      ],
      "text/plain": [
       "  OBJECTID   UIDENT  POPCLASS        NAME  CAPITAL STATEABB COUNTRY  \\\n",
       "0       15  62507.0       2.0      Bangor     -1.0    US-ME     USA   \n",
       "1       20  64707.0       2.0  Waterville     -1.0    US-ME     USA   \n",
       "2       23  65607.0       2.0     Augusta      1.0    US-ME     USA   \n",
       "3       26  66707.0       2.0      Berlin     -1.0    US-NH     USA   \n",
       "4       29  67407.0       2.0    Lewiston     -1.0    US-ME     USA   \n",
       "\n",
       "                     geometry  \n",
       "0  POINT (-68.77619 44.81189)  \n",
       "1  POINT (-69.62073 44.53724)  \n",
       "2  POINT (-69.78141 44.32166)  \n",
       "3  POINT (-71.19324 44.46470)  \n",
       "4  POINT (-70.19406 44.10972)  "
      ]
     },
     "execution_count": 35,
     "metadata": {},
     "output_type": "execute_result"
    }
   ],
   "source": [
    "ne_Cities_df.head()"
   ]
  },
  {
   "cell_type": "code",
   "execution_count": 36,
   "metadata": {},
   "outputs": [],
   "source": [
    "# translate city names to Coordinates\n",
    "def get_coordinates(route, shape_df):\n",
    "    route = route.split(';')\n",
    "    points = [','.join([ '{0} {1}'.format(\\\n",
    "                shape_df[shape_df.NAME == city].geometry.x.iloc[0],\\\n",
    "                shape_df[shape_df.NAME == city].geometry.y.iloc[0])]) for city in route]\n",
    "    \n",
    "    wkt = 'LineString (' + ','.join(points) + ')'\n",
    "\n",
    "    return wkt"
   ]
  },
  {
   "cell_type": "code",
   "execution_count": 37,
   "metadata": {},
   "outputs": [
    {
     "data": {
      "text/html": [
       "<div>\n",
       "<style scoped>\n",
       "    .dataframe tbody tr th:only-of-type {\n",
       "        vertical-align: middle;\n",
       "    }\n",
       "\n",
       "    .dataframe tbody tr th {\n",
       "        vertical-align: top;\n",
       "    }\n",
       "\n",
       "    .dataframe thead th {\n",
       "        text-align: right;\n",
       "    }\n",
       "</style>\n",
       "<table border=\"1\" class=\"dataframe\">\n",
       "  <thead>\n",
       "    <tr style=\"text-align: right;\">\n",
       "      <th></th>\n",
       "      <th>Name</th>\n",
       "      <th>ID</th>\n",
       "      <th>Duration</th>\n",
       "      <th>Start</th>\n",
       "      <th>End</th>\n",
       "      <th>Route</th>\n",
       "      <th>wkt</th>\n",
       "    </tr>\n",
       "  </thead>\n",
       "  <tbody>\n",
       "    <tr>\n",
       "      <th>0</th>\n",
       "      <td>Brown, Justine</td>\n",
       "      <td>2132225</td>\n",
       "      <td>5</td>\n",
       "      <td>2016-11-30 16:00:00</td>\n",
       "      <td>2016-12-06 14:00:00</td>\n",
       "      <td>Pittsburgh;Syracuse</td>\n",
       "      <td>LineString (-79.91439598338775 40.447399277754...</td>\n",
       "    </tr>\n",
       "    <tr>\n",
       "      <th>1</th>\n",
       "      <td>Brown, Justine</td>\n",
       "      <td>2132225</td>\n",
       "      <td>9</td>\n",
       "      <td>2016-12-12 12:00:00</td>\n",
       "      <td>2016-12-21 19:00:00</td>\n",
       "      <td>Columbus;Boston;Pittsburgh</td>\n",
       "      <td>LineString (-82.98182532058195 39.972384950705...</td>\n",
       "    </tr>\n",
       "    <tr>\n",
       "      <th>2</th>\n",
       "      <td>Brown, Justine</td>\n",
       "      <td>2132225</td>\n",
       "      <td>12</td>\n",
       "      <td>2016-08-02 13:00:00</td>\n",
       "      <td>2016-08-14 16:00:00</td>\n",
       "      <td>Albany;Scranton;Philadelphia;Scranton;Augusta</td>\n",
       "      <td>LineString (-73.78191599152962 42.674015577157...</td>\n",
       "    </tr>\n",
       "    <tr>\n",
       "      <th>3</th>\n",
       "      <td>Brown, Justine</td>\n",
       "      <td>2132225</td>\n",
       "      <td>12</td>\n",
       "      <td>2017-01-07 11:00:00</td>\n",
       "      <td>2017-01-19 17:00:00</td>\n",
       "      <td>Harrisburg;Portland;Boston;Syracuse;Albany</td>\n",
       "      <td>LineString (-76.82629734234831 40.266819768117...</td>\n",
       "    </tr>\n",
       "    <tr>\n",
       "      <th>4</th>\n",
       "      <td>Brown, Justine</td>\n",
       "      <td>2132225</td>\n",
       "      <td>17</td>\n",
       "      <td>2017-03-27 06:00:00</td>\n",
       "      <td>2017-04-13 14:00:00</td>\n",
       "      <td>Portland;Boston;Bangor;Washington;Harrisburg;P...</td>\n",
       "      <td>LineString (-70.27758484016806 43.698554552950...</td>\n",
       "    </tr>\n",
       "  </tbody>\n",
       "</table>\n",
       "</div>"
      ],
      "text/plain": [
       "             Name       ID  Duration               Start                 End  \\\n",
       "0  Brown, Justine  2132225         5 2016-11-30 16:00:00 2016-12-06 14:00:00   \n",
       "1  Brown, Justine  2132225         9 2016-12-12 12:00:00 2016-12-21 19:00:00   \n",
       "2  Brown, Justine  2132225        12 2016-08-02 13:00:00 2016-08-14 16:00:00   \n",
       "3  Brown, Justine  2132225        12 2017-01-07 11:00:00 2017-01-19 17:00:00   \n",
       "4  Brown, Justine  2132225        17 2017-03-27 06:00:00 2017-04-13 14:00:00   \n",
       "\n",
       "                                               Route  \\\n",
       "0                                Pittsburgh;Syracuse   \n",
       "1                         Columbus;Boston;Pittsburgh   \n",
       "2      Albany;Scranton;Philadelphia;Scranton;Augusta   \n",
       "3         Harrisburg;Portland;Boston;Syracuse;Albany   \n",
       "4  Portland;Boston;Bangor;Washington;Harrisburg;P...   \n",
       "\n",
       "                                                 wkt  \n",
       "0  LineString (-79.91439598338775 40.447399277754...  \n",
       "1  LineString (-82.98182532058195 39.972384950705...  \n",
       "2  LineString (-73.78191599152962 42.674015577157...  \n",
       "3  LineString (-76.82629734234831 40.266819768117...  \n",
       "4  LineString (-70.27758484016806 43.698554552950...  "
      ]
     },
     "execution_count": 37,
     "metadata": {},
     "output_type": "execute_result"
    }
   ],
   "source": [
    "my_trips_df['wkt'] = my_trips_df['Route'].apply(lambda x: get_coordinates(x, ne_Cities_df))\n",
    "my_trips_df.head()"
   ]
  },
  {
   "cell_type": "markdown",
   "metadata": {},
   "source": [
    "# 7. Use GDAL/OGR to create Shapefile\n",
    "Create Geometry from LineStrings Using ogr</b>\n",
    "<li> first method with wkt.loads works if trying to use GeoPandas to save shapefile</li>\n",
    "<li> use shapely wkt.loads even though output is seemingly identical</li>"
   ]
  },
  {
   "cell_type": "code",
   "execution_count": 38,
   "metadata": {},
   "outputs": [],
   "source": [
    "# my_trips_df['geometry'] = my_trips_df['wkt'].apply(wkt.loads)\n",
    "my_trips_df['geometry'] = my_trips_df['wkt'].apply(lambda x: ogr.CreateGeometryFromWkt(x))"
   ]
  },
  {
   "cell_type": "markdown",
   "metadata": {},
   "source": [
    "<b> Create Projection, Spatial Ref, and Build layer Fields </b>"
   ]
  },
  {
   "cell_type": "code",
   "execution_count": 39,
   "metadata": {},
   "outputs": [],
   "source": [
    "# Create the Projection, get ESRI driver\n",
    "drv = ogr.GetDriverByName('ESRI Shapefile')\n",
    "\n",
    "# Make Spatial Ref Container\n",
    "sr = osr.SpatialReference() # create spatial reference\n",
    "sr.ImportFromEPSG(4326) # set it to EPSG:4326\n",
    "\n",
    "# Now initialize the Shapefile and Build the layer class\n",
    "outfile = drv.CreateDataSource(output_shape_fn)\n",
    "outlayer = outfile.CreateLayer('Employee_Trips', geom_type=ogr.wkbLineString, srs=sr)\n",
    "\n",
    "# now create fields in output Layer\n",
    "employeeField = ogr.FieldDefn('Name', ogr.OFTString)\n",
    "outlayer.CreateField(employeeField)\n",
    "employeeIDField = ogr.FieldDefn('ID', ogr.OFTInteger)\n",
    "outlayer.CreateField(employeeIDField)\n",
    "tripLen = ogr.FieldDefn('Duration', ogr.OFTInteger)\n",
    "outlayer.CreateField(tripLen)\n",
    "tripStart = ogr.FieldDefn('Start', ogr.OFTString)\n",
    "outlayer.CreateField(tripStart)\n",
    "tripEnd = ogr.FieldDefn('End', ogr.OFTString)\n",
    "outlayer.CreateField(tripEnd)\n",
    "tripRoute = ogr.FieldDefn('Route', ogr.OFTString)\n",
    "outlayer.CreateField(tripRoute)\n",
    "\n",
    "featureDefn = outlayer.GetLayerDefn()"
   ]
  },
  {
   "cell_type": "markdown",
   "metadata": {},
   "source": [
    "Validate the feature Definition in output layer"
   ]
  },
  {
   "cell_type": "code",
   "execution_count": 40,
   "metadata": {},
   "outputs": [
    {
     "name": "stdout",
     "output_type": "stream",
     "text": [
      "Name\n",
      "ID\n",
      "Duration\n",
      "Start\n",
      "End\n",
      "Route\n"
     ]
    }
   ],
   "source": [
    "for i in range(featureDefn.GetFieldCount()):\n",
    "    print(featureDefn.GetFieldDefn(i).GetName())"
   ]
  },
  {
   "cell_type": "markdown",
   "metadata": {},
   "source": [
    "<b> Populate Output Layer from the Employee Travel DataFrame </b>"
   ]
  },
  {
   "cell_type": "code",
   "execution_count": 41,
   "metadata": {},
   "outputs": [],
   "source": [
    "for row in my_trips_df.index:\n",
    "    geometry = my_trips_df.loc[row, 'geometry']\n",
    "    name = my_trips_df.loc[row, 'Name']\n",
    "    this_ID = int(my_trips_df.loc[row, 'ID'])\n",
    "    duration = int(my_trips_df.loc[row, 'Duration'])\n",
    "    start = str(my_trips_df.loc[row, 'Start'])\n",
    "    end = str(my_trips_df.loc[row, 'End'])\n",
    "    route = my_trips_df.loc[row, 'Route']\n",
    "    \n",
    "    outFeature = ogr.Feature(featureDefn)\n",
    "    outFeature.SetGeometry(geometry)\n",
    "    outFeature.SetField('Name', name)\n",
    "    outFeature.SetField('ID', this_ID)\n",
    "    outFeature.SetField('Duration', duration)\n",
    "    outFeature.SetField('Start', start)\n",
    "    outFeature.SetField('End', end)\n",
    "    outFeature.SetField('Route', route)\n",
    "    outlayer.CreateFeature(outFeature)\n",
    "    outFeature = None\n",
    "    "
   ]
  },
  {
   "cell_type": "markdown",
   "metadata": {},
   "source": [
    "Validate Ouput layer is being populated by checking the Routes"
   ]
  },
  {
   "cell_type": "code",
   "execution_count": 42,
   "metadata": {},
   "outputs": [
    {
     "name": "stdout",
     "output_type": "stream",
     "text": [
      "Pittsburgh;Syracuse\n",
      "Columbus;Boston;Pittsburgh\n",
      "Albany;Scranton;Philadelphia;Scranton;Augusta\n",
      "Harrisburg;Portland;Boston;Syracuse;Albany\n",
      "Portland;Boston;Bangor;Washington;Harrisburg;Pittsburgh\n",
      "New York;Portland;Boston;Portland;Washington;Pittsburgh;Syracuse;Scranton;Boston\n",
      "Harrisburg;Augusta\n",
      "Philadelphia;Boston;Altoona;Harrisburg;Scranton\n",
      "Augusta;New York;Scranton;Columbus;Washington;Augusta;Bangor\n",
      "Boston;Syracuse;Portland;Altoona\n",
      "Portland;Augusta;Burlington;Philadelphia\n",
      "Erie;Syracuse;Philadelphia;Bangor;Scranton\n",
      "New York;Augusta;Pittsburgh;Cleveland;Altoona\n",
      "Boston;Cleveland;Pittsburgh;Philadelphia;Harrisburg;Albany;Portland;Harrisburg\n"
     ]
    }
   ],
   "source": [
    "for feature in outlayer:\n",
    "    print(feature.GetField('Route'))\n",
    "outlayer.ResetReading()   "
   ]
  },
  {
   "cell_type": "code",
   "execution_count": 43,
   "metadata": {},
   "outputs": [],
   "source": [
    "# close file \n",
    "outfile = None"
   ]
  },
  {
   "cell_type": "markdown",
   "metadata": {},
   "source": [
    "# 8. Zip files together to publish shapefile"
   ]
  },
  {
   "cell_type": "code",
   "execution_count": 44,
   "metadata": {},
   "outputs": [],
   "source": [
    "my_zipped_shape = zipfile.ZipFile(output_zip, 'w', zipfile.ZIP_DEFLATED)\n",
    "RESULTS_DIR = os.path.join(CURRENT_DIR , \"results\\\\\")\n",
    "just_fn = os.path.basename(output_zip).split('.')[0]\n",
    "zip_pattern = \"{}.*$\".format(just_fn)"
   ]
  },
  {
   "cell_type": "code",
   "execution_count": 53,
   "metadata": {},
   "outputs": [],
   "source": [
    "search_all_output = []\n",
    "# Gather all files for the zip\n",
    "for root, dirs, files in os.walk(RESULTS_DIR):\n",
    "    ## this comes up blank, don't know why\n",
    "    # search_all_output = [fn for fn in files if re.match(zip_pattern, fn)]\n",
    "    \n",
    "    for fn in files:\n",
    "        if re.match(zip_pattern, fn):\n",
    "            search_all_output.append(fn)"
   ]
  },
  {
   "cell_type": "code",
   "execution_count": 56,
   "metadata": {},
   "outputs": [],
   "source": [
    "# Remove CSV and other ZIP placeholder\n",
    "zip_shapefile_list = []\n",
    "for fn in search_all_output:\n",
    "    if not fn.endswith('.zip') and not fn.endswith('.csv'):\n",
    "        zip_shapefile_list.append(fn)"
   ]
  },
  {
   "cell_type": "markdown",
   "metadata": {},
   "source": [
    "<b> ZIP files </b>"
   ]
  },
  {
   "cell_type": "code",
   "execution_count": 57,
   "metadata": {},
   "outputs": [],
   "source": [
    "for fn in zip_shapefile_list:\n",
    "    my_zipped_shape.write(os.path.join(RESULTS_DIR, fn))"
   ]
  },
  {
   "cell_type": "markdown",
   "metadata": {},
   "source": [
    "<b> Publish to ESRI API </b>"
   ]
  },
  {
   "cell_type": "code",
   "execution_count": 58,
   "metadata": {},
   "outputs": [],
   "source": [
    "try:\n",
    "    my_output_shape = gis.content.add({'type': 'Shapefile'}, my_zipped_shape.filename)\n",
    "    my_output_shape_BLC = my_output_shape.publish()\n",
    "\n",
    "except RuntimeError:\n",
    "    # choose query on Username\n",
    "    query_user = \"owner:{}\".format(gis.users.me.username)\n",
    "    \n",
    "    # choose query on filename <title>\n",
    "    my_published_zip = os.path.basename(output_zip).split('.')[0]\n",
    "    query_title = \"title:{}\".format(my_published_zip)\n",
    "    \n",
    "    # search for published file\n",
    "    my_files = gis.content.search(query=query_title, item_type='Feature Service')\n",
    "    my_output_shape_BLC = my_files[0]\n",
    "    \n",
    "except Exception as e:\n",
    "    print(e)"
   ]
  },
  {
   "cell_type": "code",
   "execution_count": 59,
   "metadata": {},
   "outputs": [
    {
     "data": {
      "text/html": [
       "<div class=\"item_container\" style=\"height: auto; overflow: hidden; border: 1px solid #cfcfcf; border-radius: 2px; background: #f6fafa; line-height: 1.21429em; padding: 10px;\">\n",
       "                    <div class=\"item_left\" style=\"width: 210px; float: left;\">\n",
       "                       <a href='https://www.arcgis.com//home/item.html?id=3c1ed3dae4bc496fb11cb746fac7f5c8' target='_blank'>\n",
       "                        <img src='http://static.arcgis.com/images/desktopapp.png' class=\"itemThumbnail\">\n",
       "                       </a>\n",
       "                    </div>\n",
       "\n",
       "                    <div class=\"item_right\"     style=\"float: none; width: auto; overflow: hidden;\">\n",
       "                        <a href='https://www.arcgis.com//home/item.html?id=3c1ed3dae4bc496fb11cb746fac7f5c8' target='_blank'><b>employee_trips_blc72</b>\n",
       "                        </a>\n",
       "                        <br/><img src='https://www.arcgis.com//home/js/jsapi/esri/css/images/item_type_icons/featureshosted16.png' style=\"vertical-align:middle;\">Feature Layer Collection by blc72_pennstate\n",
       "                        <br/>Last Modified: June 22, 2020\n",
       "                        <br/>0 comments, 0 views\n",
       "                    </div>\n",
       "                </div>\n",
       "                "
      ],
      "text/plain": [
       "<Item title:\"employee_trips_blc72\" type:Feature Layer Collection owner:blc72_pennstate>"
      ]
     },
     "execution_count": 59,
     "metadata": {},
     "output_type": "execute_result"
    }
   ],
   "source": [
    "my_output_shape_BLC"
   ]
  },
  {
   "cell_type": "code",
   "execution_count": 60,
   "metadata": {},
   "outputs": [
    {
     "data": {
      "application/vnd.jupyter.widget-view+json": {
       "model_id": "345f96d282364270a75b0519ce77d8fd",
       "version_major": 2,
       "version_minor": 0
      },
      "text/plain": [
       "MapView(layout=Layout(height='400px', width='100%'))"
      ]
     },
     "metadata": {},
     "output_type": "display_data"
    },
    {
     "data": {
      "text/html": [
       "<div class=\"map-static-img-preview-3ea40878-6749-4061-9106-fe1620b8166f\"><img src=\"\"></img></div>"
      ],
      "text/plain": [
       "<IPython.core.display.HTML object>"
      ]
     },
     "metadata": {},
     "output_type": "display_data"
    }
   ],
   "source": [
    "myMap = gis.map('Pennsylvania')\n",
    "myMap.add_layer(my_output_shape_BLC, {})\n",
    "myMap"
   ]
  }
 ],
 "metadata": {
  "kernelspec": {
   "display_name": "Python 3",
   "language": "python",
   "name": "python3"
  },
  "language_info": {
   "codemirror_mode": {
    "name": "ipython",
    "version": 3
   },
   "file_extension": ".py",
   "mimetype": "text/x-python",
   "name": "python",
   "nbconvert_exporter": "python",
   "pygments_lexer": "ipython3",
   "version": "3.7.6"
  }
 },
 "nbformat": 4,
 "nbformat_minor": 2
}
