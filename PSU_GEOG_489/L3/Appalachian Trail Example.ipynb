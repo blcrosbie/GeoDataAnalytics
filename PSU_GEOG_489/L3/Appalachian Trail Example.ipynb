{
 "cells": [
  {
   "cell_type": "code",
   "execution_count": 1,
   "metadata": {},
   "outputs": [],
   "source": [
    "from arcgis.gis import GIS\n",
    "gis = GIS()"
   ]
  },
  {
   "cell_type": "code",
   "execution_count": 16,
   "metadata": {},
   "outputs": [],
   "source": [
    "os.environ[\"HOME\"] = os.path.expanduser(\"~\")\n",
    "CDIR = os.getcwd()"
   ]
  },
  {
   "cell_type": "code",
   "execution_count": 14,
   "metadata": {},
   "outputs": [],
   "source": [
    "import os, sys\n",
    "env_path = os.environ[\"HOME\"] + '\\\\AppData\\\\Local\\\\Programs\\\\ArcGIS\\\\Pro\\\\bin'\n",
    "os.environ[\"PATH\"] = r\"{};{}\".format(os.environ[\"PATH\"], env_path)\n",
    "\n",
    "app_path = os.environ[\"HOME\"] + '\\\\AppData\\\\Local\\\\Programs\\\\ArcGIS\\\\Pro\\\\Resources\\\\ArcPy'\n",
    "sys.path.append(app_path)\n",
    "\n",
    "import arcgis\n",
    "from arcgis.gis import GIS\n",
    "gis = GIS('pro') "
   ]
  },
  {
   "cell_type": "code",
   "execution_count": 20,
   "metadata": {},
   "outputs": [],
   "source": [
    "CTZIP = CDIR + '\\\\assignment3data\\\\example3_data\\\\ne_cities_blc72.zip'\n",
    "neCities = gis.content.add({'type': 'Shapefile'}, CTZIP)\n",
    "neCitiesBLC = neCities.publish()"
   ]
  },
  {
   "cell_type": "code",
   "execution_count": 31,
   "metadata": {},
   "outputs": [],
   "source": [
    "cityMap = gis.map('Pennsylvania')\n",
    "cityMap.add_layer(neCitiesBLC, {})\n"
   ]
  },
  {
   "cell_type": "code",
   "execution_count": null,
   "metadata": {},
   "outputs": [],
   "source": [
    "gis.content.search(query='owner:blc72_pennstate', item_type='Feature Service', title='ne_cities_blc72')"
   ]
  },
  {
   "cell_type": "code",
   "execution_count": 33,
   "metadata": {},
   "outputs": [
    {
     "name": "stdout",
     "output_type": "stream",
     "text": [
      "{\n",
      "  \"name\": \"FID\",\n",
      "  \"type\": \"esriFieldTypeOID\",\n",
      "  \"actualType\": \"int\",\n",
      "  \"alias\": \"FID\",\n",
      "  \"sqlType\": \"sqlTypeInteger\",\n",
      "  \"nullable\": false,\n",
      "  \"editable\": false,\n",
      "  \"domain\": null,\n",
      "  \"defaultValue\": null\n",
      "}\n",
      "{\n",
      "  \"name\": \"OBJECTID\",\n",
      "  \"type\": \"esriFieldTypeString\",\n",
      "  \"actualType\": \"nvarchar\",\n",
      "  \"alias\": \"OBJECTID\",\n",
      "  \"sqlType\": \"sqlTypeNVarchar\",\n",
      "  \"length\": 10,\n",
      "  \"nullable\": true,\n",
      "  \"editable\": true,\n",
      "  \"domain\": null,\n",
      "  \"defaultValue\": null\n",
      "}\n",
      "{\n",
      "  \"name\": \"UIDENT\",\n",
      "  \"type\": \"esriFieldTypeDouble\",\n",
      "  \"actualType\": \"float\",\n",
      "  \"alias\": \"UIDENT\",\n",
      "  \"sqlType\": \"sqlTypeFloat\",\n",
      "  \"nullable\": true,\n",
      "  \"editable\": true,\n",
      "  \"domain\": null,\n",
      "  \"defaultValue\": null\n",
      "}\n",
      "{\n",
      "  \"name\": \"POPCLASS\",\n",
      "  \"type\": \"esriFieldTypeDouble\",\n",
      "  \"actualType\": \"float\",\n",
      "  \"alias\": \"POPCLASS\",\n",
      "  \"sqlType\": \"sqlTypeFloat\",\n",
      "  \"nullable\": true,\n",
      "  \"editable\": true,\n",
      "  \"domain\": null,\n",
      "  \"defaultValue\": null\n",
      "}\n",
      "{\n",
      "  \"name\": \"NAME\",\n",
      "  \"type\": \"esriFieldTypeString\",\n",
      "  \"actualType\": \"nvarchar\",\n",
      "  \"alias\": \"NAME\",\n",
      "  \"sqlType\": \"sqlTypeNVarchar\",\n",
      "  \"length\": 40,\n",
      "  \"nullable\": true,\n",
      "  \"editable\": true,\n",
      "  \"domain\": null,\n",
      "  \"defaultValue\": null\n",
      "}\n",
      "{\n",
      "  \"name\": \"CAPITAL\",\n",
      "  \"type\": \"esriFieldTypeDouble\",\n",
      "  \"actualType\": \"float\",\n",
      "  \"alias\": \"CAPITAL\",\n",
      "  \"sqlType\": \"sqlTypeFloat\",\n",
      "  \"nullable\": true,\n",
      "  \"editable\": true,\n",
      "  \"domain\": null,\n",
      "  \"defaultValue\": null\n",
      "}\n",
      "{\n",
      "  \"name\": \"STATEABB\",\n",
      "  \"type\": \"esriFieldTypeString\",\n",
      "  \"actualType\": \"nvarchar\",\n",
      "  \"alias\": \"STATEABB\",\n",
      "  \"sqlType\": \"sqlTypeNVarchar\",\n",
      "  \"length\": 10,\n",
      "  \"nullable\": true,\n",
      "  \"editable\": true,\n",
      "  \"domain\": null,\n",
      "  \"defaultValue\": null\n",
      "}\n",
      "{\n",
      "  \"name\": \"COUNTRY\",\n",
      "  \"type\": \"esriFieldTypeString\",\n",
      "  \"actualType\": \"nvarchar\",\n",
      "  \"alias\": \"COUNTRY\",\n",
      "  \"sqlType\": \"sqlTypeNVarchar\",\n",
      "  \"length\": 10,\n",
      "  \"nullable\": true,\n",
      "  \"editable\": true,\n",
      "  \"domain\": null,\n",
      "  \"defaultValue\": null\n",
      "}\n"
     ]
    }
   ],
   "source": [
    "for f in neCitiesBLC.layers[0].properties.fields:\n",
    "    print(f)"
   ]
  },
  {
   "cell_type": "code",
   "execution_count": 34,
   "metadata": {},
   "outputs": [
    {
     "name": "stdout",
     "output_type": "stream",
     "text": [
      "[{\"geometry\": {\"x\": -8425181.625237303, \"y\": 5075313.651659228}, \"attributes\": {\"FID\": 50, \"OBJECTID\": \"149\", \"UIDENT\": 87507, \"POPCLASS\": 2, \"NAME\": \"Scranton\", \"CAPITAL\": -1, \"STATEABB\": \"US-PA\", \"COUNTRY\": \"USA\"}}, {\"geometry\": {\"x\": -8912583.489066456, \"y\": 5176670.443556941}, \"attributes\": {\"FID\": 53, \"OBJECTID\": \"156\", \"UIDENT\": 88707, \"POPCLASS\": 3, \"NAME\": \"Erie\", \"CAPITAL\": -1, \"STATEABB\": \"US-PA\", \"COUNTRY\": \"USA\"}}, {\"geometry\": {\"x\": -8450840.525446557, \"y\": 5046801.609302285}, \"attributes\": {\"FID\": 55, \"OBJECTID\": \"158\", \"UIDENT\": 88907, \"POPCLASS\": 2, \"NAME\": \"Wilkes-Barre\", \"CAPITAL\": -1, \"STATEABB\": \"US-PA\", \"COUNTRY\": \"USA\"}}, {\"geometry\": {\"x\": -8574758.33913279, \"y\": 5051986.712398411}, \"attributes\": {\"FID\": 59, \"OBJECTID\": \"168\", \"UIDENT\": 90207, \"POPCLASS\": 2, \"NAME\": \"Williamsport\", \"CAPITAL\": -1, \"STATEABB\": \"US-PA\", \"COUNTRY\": \"USA\"}}, {\"geometry\": {\"x\": -8402538.549245773, \"y\": 4956785.745415514}, \"attributes\": {\"FID\": 64, \"OBJECTID\": \"179\", \"UIDENT\": 91607, \"POPCLASS\": 3, \"NAME\": \"Allentown\", \"CAPITAL\": -1, \"STATEABB\": \"US-PA\", \"COUNTRY\": \"USA\"}}, {\"geometry\": {\"x\": -8873616.23068048, \"y\": 5077420.857528521}, \"attributes\": {\"FID\": 65, \"OBJECTID\": \"181\", \"UIDENT\": 92107, \"POPCLASS\": 2, \"NAME\": \"Oil City\", \"CAPITAL\": -1, \"STATEABB\": \"US-PA\", \"COUNTRY\": \"USA\"}}, {\"geometry\": {\"x\": -8367583.162720639, \"y\": 4857405.395566392}, \"attributes\": {\"FID\": 70, \"OBJECTID\": \"195\", \"UIDENT\": 94207, \"POPCLASS\": 4, \"NAME\": \"Philadelphia\", \"CAPITAL\": -1, \"STATEABB\": \"US-PA\", \"COUNTRY\": \"USA\"}}, {\"geometry\": {\"x\": -8552264.29968284, \"y\": 4904791.895306259}, \"attributes\": {\"FID\": 71, \"OBJECTID\": \"196\", \"UIDENT\": 94307, \"POPCLASS\": 2, \"NAME\": \"Harrisburg\", \"CAPITAL\": 1, \"STATEABB\": \"US-PA\", \"COUNTRY\": \"USA\"}}, {\"geometry\": {\"x\": -8727557.993205603, \"y\": 4942625.172585812}, \"attributes\": {\"FID\": 72, \"OBJECTID\": \"199\", \"UIDENT\": 94607, \"POPCLASS\": 2, \"NAME\": \"Altoona\", \"CAPITAL\": -1, \"STATEABB\": \"US-PA\", \"COUNTRY\": \"USA\"}}, {\"geometry\": {\"x\": -8896029.867922751, \"y\": 4931171.719063493}, \"attributes\": {\"FID\": 78, \"OBJECTID\": \"213\", \"UIDENT\": 96307, \"POPCLASS\": 3, \"NAME\": \"Pittsburgh\", \"CAPITAL\": -1, \"STATEABB\": \"US-PA\", \"COUNTRY\": \"USA\"}}]\n"
     ]
    },
    {
     "data": {
      "text/plain": [
       "<FeatureSet> 10 features"
      ]
     },
     "execution_count": 34,
     "metadata": {},
     "output_type": "execute_result"
    }
   ],
   "source": [
    "paCities = neCitiesBLC.layers[0].query(where='\"STATEABB\"=\\'US-PA\\'')\n",
    "print(paCities.features)\n",
    "paCities"
   ]
  },
  {
   "cell_type": "code",
   "execution_count": 35,
   "metadata": {},
   "outputs": [
    {
     "name": "stdout",
     "output_type": "stream",
     "text": [
      "Scranton - US-PA\n",
      "Erie - US-PA\n",
      "Wilkes-Barre - US-PA\n",
      "Williamsport - US-PA\n",
      "Allentown - US-PA\n",
      "Oil City - US-PA\n",
      "Philadelphia - US-PA\n",
      "Harrisburg - US-PA\n",
      "Altoona - US-PA\n",
      "Pittsburgh - US-PA\n"
     ]
    }
   ],
   "source": [
    "for f in paCities:\n",
    "    print(f.attributes['NAME'] + \" - \"+ f.attributes['STATEABB'])"
   ]
  },
  {
   "cell_type": "code",
   "execution_count": 36,
   "metadata": {},
   "outputs": [
    {
     "name": "stderr",
     "output_type": "stream",
     "text": [
      "Item 'dcnr_apptrail_2003_blc72.zip' already exists.\n"
     ]
    }
   ],
   "source": [
    "try:\n",
    "    trail_fn = CDIR + '\\\\assignment3data\\\\example3_data\\\\dcnr_apptrail_2003_blc72.zip'\n",
    "    appTrail = gis.content.add({'type': 'Shapefile'}, trail_fn)\n",
    "    appTrailBLC = appTrail.publish()\n",
    "except:\n",
    "    pass"
   ]
  },
  {
   "cell_type": "code",
   "execution_count": 37,
   "metadata": {},
   "outputs": [],
   "source": [
    "cityMap.add_layer(appTrailBLC, {})"
   ]
  },
  {
   "cell_type": "code",
   "execution_count": 38,
   "metadata": {},
   "outputs": [],
   "source": [
    "from arcgis.features.use_proximity import create_buffers\n",
    "bufferedCities = create_buffers(paCities.to_dict(), [30], units='Miles')\n",
    "cityMap.add_layer(bufferedCities, {})"
   ]
  },
  {
   "cell_type": "code",
   "execution_count": 39,
   "metadata": {},
   "outputs": [
    {
     "data": {
      "application/vnd.jupyter.widget-view+json": {
       "model_id": "2c6596229b6646ebba5a69b3a30babed",
       "version_major": 2,
       "version_minor": 0
      },
      "text/plain": [
       "MapView(layout=Layout(height='400px', width='100%'))"
      ]
     },
     "metadata": {},
     "output_type": "display_data"
    },
    {
     "data": {
      "text/html": [
       "<div class=\"map-static-img-preview-2ecd04ac-ca99-4f06-a253-204ca67c68d1\"><img src=\"\"></img></div>"
      ],
      "text/plain": [
       "<IPython.core.display.HTML object>"
      ]
     },
     "metadata": {},
     "output_type": "display_data"
    }
   ],
   "source": [
    "cityMap"
   ]
  },
  {
   "cell_type": "code",
   "execution_count": 40,
   "metadata": {},
   "outputs": [],
   "source": [
    "from arcgis.features.manage_data import overlay_layers\n",
    "trailPartsCloseToCity = overlay_layers(appTrailBLC, bufferedCities, overlay_type='Intersect')"
   ]
  },
  {
   "cell_type": "code",
   "execution_count": 41,
   "metadata": {},
   "outputs": [
    {
     "data": {
      "application/vnd.jupyter.widget-view+json": {
       "model_id": "c5d80a7cb3214889b26938675dddc7d5",
       "version_major": 2,
       "version_minor": 0
      },
      "text/plain": [
       "MapView(layout=Layout(height='400px', width='100%'))"
      ]
     },
     "metadata": {},
     "output_type": "display_data"
    },
    {
     "data": {
      "text/html": [
       "<div class=\"map-static-img-preview-768191d5-bf14-4309-ba03-3079fb459edf\"><img src=\"\"></img></div>"
      ],
      "text/plain": [
       "<IPython.core.display.HTML object>"
      ]
     },
     "metadata": {},
     "output_type": "display_data"
    }
   ],
   "source": [
    "resultMap = gis.map('Pennsylvania')\n",
    "resultMap"
   ]
  },
  {
   "cell_type": "code",
   "execution_count": 42,
   "metadata": {},
   "outputs": [],
   "source": [
    "resultMap.add_layer(trailPartsCloseToCity)"
   ]
  },
  {
   "cell_type": "code",
   "execution_count": null,
   "metadata": {},
   "outputs": [],
   "source": []
  }
 ],
 "metadata": {
  "kernelspec": {
   "display_name": "Python 3",
   "language": "python",
   "name": "python3"
  },
  "language_info": {
   "codemirror_mode": {
    "name": "ipython",
    "version": 3
   },
   "file_extension": ".py",
   "mimetype": "text/x-python",
   "name": "python",
   "nbconvert_exporter": "python",
   "pygments_lexer": "ipython3",
   "version": "3.7.4"
  }
 },
 "nbformat": 4,
 "nbformat_minor": 2
}
